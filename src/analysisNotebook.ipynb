{
 "cells": [
  {
   "cell_type": "code",
   "execution_count": 1,
   "metadata": {},
   "outputs": [],
   "source": [
    "import findspark\n",
    "findspark.init()"
   ]
  },
  {
   "cell_type": "code",
   "execution_count": 2,
   "metadata": {},
   "outputs": [
    {
     "data": {
      "text/html": [
       "\n",
       "            <div>\n",
       "                <p><b>SparkSession - in-memory</b></p>\n",
       "                \n",
       "        <div>\n",
       "            <p><b>SparkContext</b></p>\n",
       "\n",
       "            <p><a href=\"http://MSI:4040\">Spark UI</a></p>\n",
       "\n",
       "            <dl>\n",
       "              <dt>Version</dt>\n",
       "                <dd><code>v3.5.1</code></dd>\n",
       "              <dt>Master</dt>\n",
       "                <dd><code>local[*]</code></dd>\n",
       "              <dt>AppName</dt>\n",
       "                <dd><code>CustomerBehaviour</code></dd>\n",
       "            </dl>\n",
       "        </div>\n",
       "        \n",
       "            </div>\n",
       "        "
      ],
      "text/plain": [
       "<pyspark.sql.session.SparkSession at 0x1fd5db83380>"
      ]
     },
     "execution_count": 2,
     "metadata": {},
     "output_type": "execute_result"
    }
   ],
   "source": [
    "from pyspark.sql import SparkSession\n",
    "spark = SparkSession.builder.appName(\"CustomerBehaviour\").getOrCreate()\n",
    "spark"
   ]
  },
  {
   "cell_type": "code",
   "execution_count": 59,
   "metadata": {},
   "outputs": [],
   "source": [
    "# import sys\n",
    "# import os\n",
    "\n",
    "# # Add src directory to path\n",
    "# cwd = os.getcwd()\n",
    "# sys.path.append(os.path.join(cwd, '..', 'src'))"
   ]
  },
  {
   "cell_type": "code",
   "execution_count": 3,
   "metadata": {},
   "outputs": [],
   "source": [
    "from data_cleaning import CleanData\n",
    "from data_ingestion import Session\n",
    "from data_transformation import TransformData"
   ]
  },
  {
   "cell_type": "code",
   "execution_count": 5,
   "metadata": {},
   "outputs": [
    {
     "name": "stdout",
     "output_type": "stream",
     "text": [
      "CSV Data is at c:\\nikhil_pyspark\\customerBehaviour\\src\\..\\data\\Online_Retail.csv\n",
      "+---------+---------+--------------------+--------+----------------+---------+----------+--------------+\n",
      "|InvoiceNo|StockCode|         Description|Quantity|     InvoiceDate|UnitPrice|CustomerID|       Country|\n",
      "+---------+---------+--------------------+--------+----------------+---------+----------+--------------+\n",
      "|   536365|   85123A|WHITE HANGING HEA...|       6|01-12-2010 08:26|     2.55|     17850|United Kingdom|\n",
      "|   536365|    71053| WHITE METAL LANTERN|       6|01-12-2010 08:26|     3.39|     17850|United Kingdom|\n",
      "|   536365|   84406B|CREAM CUPID HEART...|       8|01-12-2010 08:26|     2.75|     17850|United Kingdom|\n",
      "|   536365|   84029G|KNITTED UNION FLA...|       6|01-12-2010 08:26|     3.39|     17850|United Kingdom|\n",
      "|   536365|   84029E|RED WOOLLY HOTTIE...|       6|01-12-2010 08:26|     3.39|     17850|United Kingdom|\n",
      "+---------+---------+--------------------+--------+----------------+---------+----------+--------------+\n",
      "only showing top 5 rows\n",
      "\n"
     ]
    }
   ],
   "source": [
    "# Load data\n",
    "retail_data = Session().load_data(spark)\n",
    "retail_data.show(n=5)"
   ]
  },
  {
   "cell_type": "code",
   "execution_count": 6,
   "metadata": {},
   "outputs": [
    {
     "name": "stdout",
     "output_type": "stream",
     "text": [
      "+---------+---------+--------------------+--------+-------------------+---------+----------+--------------+----------+\n",
      "|InvoiceNo|StockCode|         Description|Quantity|        InvoiceDate|UnitPrice|CustomerID|       Country|TotalPrice|\n",
      "+---------+---------+--------------------+--------+-------------------+---------+----------+--------------+----------+\n",
      "|   536365|   85123A|WHITE HANGING HEA...|       6|2010-12-01 08:26:00|     2.55|     17850|United Kingdom|    15.300|\n",
      "|   536365|    71053| WHITE METAL LANTERN|       6|2010-12-01 08:26:00|     3.39|     17850|United Kingdom|    20.340|\n",
      "|   536365|   84406B|CREAM CUPID HEART...|       8|2010-12-01 08:26:00|     2.75|     17850|United Kingdom|    22.000|\n",
      "|   536365|   84029G|KNITTED UNION FLA...|       6|2010-12-01 08:26:00|     3.39|     17850|United Kingdom|    20.340|\n",
      "|   536365|   84029E|RED WOOLLY HOTTIE...|       6|2010-12-01 08:26:00|     3.39|     17850|United Kingdom|    20.340|\n",
      "+---------+---------+--------------------+--------+-------------------+---------+----------+--------------+----------+\n",
      "only showing top 5 rows\n",
      "\n"
     ]
    }
   ],
   "source": [
    "# Transform data\n",
    "customers_df = TransformData().transform_data(retail_data)\n",
    "customers_df.show(n=5)"
   ]
  },
  {
   "cell_type": "markdown",
   "metadata": {},
   "source": [
    "                                    DATA ANALYSIS"
   ]
  },
  {
   "cell_type": "code",
   "execution_count": 8,
   "metadata": {},
   "outputs": [
    {
     "name": "stdout",
     "output_type": "stream",
     "text": [
      "+-----------------+\n",
      "|          Revenue|\n",
      "+-----------------+\n",
      "|9394843.593998538|\n",
      "+-----------------+\n",
      "\n"
     ]
    }
   ],
   "source": [
    "from pyspark.sql.functions import sum, avg, when, col\n",
    "total_revenue = customers_df.agg(\n",
    "        sum(col(\"TotalPrice\")).alias(\"Revenue\")\n",
    "    )\n",
    "total_revenue.show()"
   ]
  },
  {
   "cell_type": "code",
   "execution_count": 11,
   "metadata": {},
   "outputs": [
    {
     "name": "stdout",
     "output_type": "stream",
     "text": [
      "+--------------------+------------+\n",
      "|             Country|     Revenue|\n",
      "+--------------------+------------+\n",
      "|              Sweden| 36,595.9100|\n",
      "|           Singapore|  9,120.3900|\n",
      "|             Germany|221,698.2100|\n",
      "|              France|195,771.4200|\n",
      "|              Greece|  4,710.5200|\n",
      "|             Belgium| 40,910.9600|\n",
      "|             Finland| 22,326.7400|\n",
      "|               Italy| 16,890.5100|\n",
      "|                EIRE|254,432.0000|\n",
      "|           Lithuania|  1,661.0600|\n",
      "|              Norway| 35,163.4600|\n",
      "|               Spain| 50,045.6300|\n",
      "|             Denmark| 18,768.1400|\n",
      "|           Hong Kong| 10,117.0400|\n",
      "|             Iceland|  4,310.0000|\n",
      "|              Israel|  7,907.8200|\n",
      "|     Channel Islands| 20,086.2900|\n",
      "|              Cyprus| 12,946.2900|\n",
      "|         Switzerland| 56,385.3500|\n",
      "|United Arab Emirates|  1,902.2800|\n",
      "+--------------------+------------+\n",
      "only showing top 20 rows\n",
      "\n"
     ]
    }
   ],
   "source": [
    "# Calculate the total revenue generated per country.\n",
    "from pyspark.sql.functions import format_number\n",
    "country_revenue = customers_df.groupby(col(\"Country\")).agg(\n",
    "    format_number(sum(col(\"TotalPrice\")), 4).alias(\"Revenue\")\n",
    ")\n",
    "country_revenue.show()\n"
   ]
  },
  {
   "cell_type": "code",
   "execution_count": 12,
   "metadata": {},
   "outputs": [
    {
     "name": "stdout",
     "output_type": "stream",
     "text": [
      "+----------+-----------------+\n",
      "|CustomerId|AverageOrderValue|\n",
      "+----------+-----------------+\n",
      "|     16250|          16.2267|\n",
      "|     15574|           4.1801|\n",
      "|     15555|           5.1440|\n",
      "|     15271|           9.0393|\n",
      "|     17714|          15.3000|\n",
      "|     17686|          20.0680|\n",
      "|     17757|           7.5276|\n",
      "|     17551|           7.1358|\n",
      "|     13187|           6.3789|\n",
      "|     16549|           4.2351|\n",
      "|     12637|          15.1098|\n",
      "|     15052|           7.1927|\n",
      "|     15448|          17.6657|\n",
      "|     14525|          14.1657|\n",
      "|     18283|           2.7710|\n",
      "|     13107|          25.4012|\n",
      "|     16303|          31.7714|\n",
      "|     17256|          15.0000|\n",
      "|     16027|          50.1247|\n",
      "|     13174|           8.9714|\n",
      "+----------+-----------------+\n",
      "only showing top 20 rows\n",
      "\n"
     ]
    }
   ],
   "source": [
    "# Determine the average order value per customer.\n",
    "order_avg = customers_df.groupby(col(\"CustomerId\")).agg(\n",
    "    format_number(avg(col(\"TotalPrice\")),4).alias(\"AverageOrderValue\")\n",
    ")\n",
    "order_avg.show()"
   ]
  },
  {
   "cell_type": "code",
   "execution_count": 13,
   "metadata": {},
   "outputs": [
    {
     "name": "stdout",
     "output_type": "stream",
     "text": [
      "RABBIT NIGHT LIGHT\n",
      "CREAM HEART CARD HOLDER\n",
      "SMALL ZINC HEART WALL ORGANISER\n",
      "HOT WATER BOTTLE KEEP CALM\n",
      "SET OF 3 REGENCY CAKE TINS\n",
      "SET OF 3 REGENCY CAKE TINS\n",
      "SET OF TEA COFFEE SUGAR TINS PANTRY\n",
      "SMALL ZINC HEART WALL ORGANISER\n",
      "MISELTOE HEART WREATH CREAM\n",
      "JUMBO BAG TOYS \n"
     ]
    }
   ],
   "source": [
    "# Identify the top 10 products by total sales revenue.\n",
    "top_10_products_by_revenue = customers_df.orderBy(col(\"TotalPrice\").desc()).head(10)\n",
    "for product in top_10_products_by_revenue:\n",
    "    print(product[2])"
   ]
  },
  {
   "cell_type": "code",
   "execution_count": 14,
   "metadata": {},
   "outputs": [
    {
     "name": "stdout",
     "output_type": "stream",
     "text": [
      "+-------+------------------+\n",
      "|summary|          Quantity|\n",
      "+-------+------------------+\n",
      "|  count|            541909|\n",
      "|   mean|  9.55224954743324|\n",
      "| stddev|218.08115785023443|\n",
      "|    min|                -1|\n",
      "|    max|               992|\n",
      "+-------+------------------+\n",
      "\n"
     ]
    }
   ],
   "source": [
    "customers_df.describe(\"Quantity\").show()"
   ]
  },
  {
   "cell_type": "code",
   "execution_count": 15,
   "metadata": {},
   "outputs": [
    {
     "name": "stdout",
     "output_type": "stream",
     "text": [
      "4373\n"
     ]
    }
   ],
   "source": [
    "# Calculate the total number of unique customers.\n",
    "unique_customers_cnt = customers_df.select(col(\"CustomerId\")).distinct().count()\n",
    "print(unique_customers_cnt)"
   ]
  },
  {
   "cell_type": "code",
   "execution_count": 16,
   "metadata": {},
   "outputs": [
    {
     "name": "stdout",
     "output_type": "stream",
     "text": [
      "+----------+------------------+\n",
      "|CustomerId|             Total|\n",
      "+----------+------------------+\n",
      "|      NULL|1574435.4400000807|\n",
      "|     14646| 267171.2599999999|\n",
      "|     14911|132572.62000000014|\n",
      "|     18102|128397.31000000001|\n",
      "|     12415|117614.04999999996|\n",
      "|     14156|104539.32000000004|\n",
      "|     17511| 88125.37999999998|\n",
      "|     17450|          73748.83|\n",
      "|     13694| 62653.09999999998|\n",
      "|     16684|          60715.28|\n",
      "|     15311|59419.340000000004|\n",
      "|     13089|57385.880000000005|\n",
      "|     14096|  53363.6599999998|\n",
      "|     14298| 50862.43999999998|\n",
      "|     14088|          50415.49|\n",
      "|     15061|46957.939999999995|\n",
      "|     16029|          46816.85|\n",
      "|     15769|          43478.32|\n",
      "|     17841| 40340.77999999992|\n",
      "|     13798| 36351.41999999999|\n",
      "+----------+------------------+\n",
      "only showing top 20 rows\n",
      "\n"
     ]
    }
   ],
   "source": [
    "# Identify customers with the highest total spend.\n",
    "highly_spend_customers = customers_df.groupby(col(\"CustomerId\")).agg(\n",
    "    (sum(col(\"TotalPrice\"))).alias(\"Total\")\n",
    ").orderBy(col(\"Total\").desc())\n",
    "highly_spend_customers.show()"
   ]
  },
  {
   "cell_type": "code",
   "execution_count": 17,
   "metadata": {},
   "outputs": [
    {
     "name": "stdout",
     "output_type": "stream",
     "text": [
      "0.017139409015166755\n"
     ]
    }
   ],
   "source": [
    "# Analyze the return rate by identifying invoices starting with 'C'.\n",
    "cancelled_orders = customers_df.filter(col(\"InvoiceNo\").startswith(\"C\"))\n",
    "total = customers_df.select(col(\"InvoiceNo\")).count()\n",
    "cancelled = cancelled_orders.select(col(\"InvoiceNo\")).count()\n",
    "print(cancelled/total)"
   ]
  },
  {
   "cell_type": "code",
   "execution_count": 18,
   "metadata": {},
   "outputs": [
    {
     "name": "stdout",
     "output_type": "stream",
     "text": [
      "Peak Hours:\n",
      "\t 12\n",
      "\t 15\n",
      "\t 13\n",
      "\t 14\n",
      "\t 11\n"
     ]
    }
   ],
   "source": [
    "# Determine the peak hours for transactions.\n",
    "from pyspark.sql.functions import hour\n",
    "hours = customers_df.withColumn(\"Hour\", hour(col(\"InvoiceDate\")))\n",
    "peak_hours = hours.groupby(col(\"Hour\")).count().orderBy(col(\"count\").desc()).head(5)\n",
    "print(\"Peak Hours:\")\n",
    "for _hour in peak_hours:\n",
    "    print(\"\\t\", _hour[0])"
   ]
  },
  {
   "cell_type": "code",
   "execution_count": 19,
   "metadata": {},
   "outputs": [
    {
     "name": "stdout",
     "output_type": "stream",
     "text": [
      "+---------+------------------+\n",
      "|InvoiceNo|           Average|\n",
      "+---------+------------------+\n",
      "|   536596|               1.5|\n",
      "|   536938|33.142857142857146|\n",
      "|   537252|              31.0|\n",
      "|   537691|              8.15|\n",
      "|   538041|              30.0|\n",
      "|   538184|12.076923076923077|\n",
      "|   538517|3.0377358490566038|\n",
      "|   538879|21.157894736842106|\n",
      "|   539275|              26.0|\n",
      "|   539630|20.333333333333332|\n",
      "|   540499|              3.75|\n",
      "|   540540|2.1363636363636362|\n",
      "|   540976|10.520833333333334|\n",
      "|   541432|             12.25|\n",
      "|   541518| 23.10891089108911|\n",
      "|   541783|11.314285714285715|\n",
      "|   542026| 7.666666666666667|\n",
      "|   542375|               8.0|\n",
      "|   543641|             6.125|\n",
      "|   544303|1.3902439024390243|\n",
      "+---------+------------------+\n",
      "only showing top 20 rows\n",
      "\n"
     ]
    }
   ],
   "source": [
    "# Calculate the average quantity purchased per transaction.\n",
    "avg_quantity_per_txn = customers_df.groupby(col(\"InvoiceNo\")).agg(\n",
    "    avg(col(\"Quantity\")).alias(\"Average\")\n",
    ").filter(~ col(\"InvoiceNo\").startswith(\"C\"))\n",
    "\n",
    "avg_quantity_per_txn.show()"
   ]
  },
  {
   "cell_type": "code",
   "execution_count": 21,
   "metadata": {},
   "outputs": [
    {
     "name": "stdout",
     "output_type": "stream",
     "text": [
      "+----------+---------+\n",
      "|CustomerId|Frequency|\n",
      "+----------+---------+\n",
      "|      NULL|     3710|\n",
      "|     14911|      248|\n",
      "|     12748|      224|\n",
      "|     17841|      169|\n",
      "|     14606|      128|\n",
      "|     15311|      118|\n",
      "|     13089|      118|\n",
      "|     12971|       89|\n",
      "|     14527|       86|\n",
      "|     13408|       81|\n",
      "+----------+---------+\n",
      "\n"
     ]
    }
   ],
   "source": [
    "# Find the top 10 customers based on purchase frequency.\n",
    "distinct_txn = customers_df.select(\n",
    "        col(\"InvoiceNo\"), col(\"CustomerId\")\n",
    "    ).distinct().orderBy(col(\"CustomerId\"))\n",
    "# distinct_txn.show(n=10)\n",
    "high_purchase_frequency = distinct_txn.groupby(col(\"CustomerId\")).count()\\\n",
    "    .orderBy(col(\"count\").desc()).limit(10).withColumnRenamed(\"count\", \"Frequency\")\n",
    "high_purchase_frequency.show()"
   ]
  },
  {
   "cell_type": "code",
   "execution_count": 22,
   "metadata": {},
   "outputs": [
    {
     "name": "stdout",
     "output_type": "stream",
     "text": [
      "+---------+---------+--------------------+--------+-------------------+---------+----------+--------------+----------+\n",
      "|InvoiceNo|StockCode|         Description|Quantity|        InvoiceDate|UnitPrice|CustomerID|       Country|TotalPrice|\n",
      "+---------+---------+--------------------+--------+-------------------+---------+----------+--------------+----------+\n",
      "|   536365|   85123A|WHITE HANGING HEA...|       6|2010-12-01 08:26:00|     2.55|     17850|United Kingdom|    15.300|\n",
      "|   536365|    71053| WHITE METAL LANTERN|       6|2010-12-01 08:26:00|     3.39|     17850|United Kingdom|    20.340|\n",
      "|   536365|   84406B|CREAM CUPID HEART...|       8|2010-12-01 08:26:00|     2.75|     17850|United Kingdom|    22.000|\n",
      "|   536365|   84029G|KNITTED UNION FLA...|       6|2010-12-01 08:26:00|     3.39|     17850|United Kingdom|    20.340|\n",
      "|   536365|   84029E|RED WOOLLY HOTTIE...|       6|2010-12-01 08:26:00|     3.39|     17850|United Kingdom|    20.340|\n",
      "|   536365|    22752|SET 7 BABUSHKA NE...|       2|2010-12-01 08:26:00|     7.65|     17850|United Kingdom|    15.300|\n",
      "|   536365|    21730|GLASS STAR FROSTE...|       6|2010-12-01 08:26:00|     4.25|     17850|United Kingdom|    25.500|\n",
      "+---------+---------+--------------------+--------+-------------------+---------+----------+--------------+----------+\n",
      "\n"
     ]
    }
   ],
   "source": [
    "customers_df.filter(col(\"InvoiceNo\")==\"536365\").show()"
   ]
  },
  {
   "cell_type": "code",
   "execution_count": 23,
   "metadata": {},
   "outputs": [
    {
     "name": "stdout",
     "output_type": "stream",
     "text": [
      "+----------+-------------+\n",
      "|CustomerId|        Total|\n",
      "+----------+-------------+\n",
      "|      NULL|1,574,435.440|\n",
      "|     14646|  267,171.260|\n",
      "|     14911|  132,572.620|\n",
      "|     18102|  128,397.310|\n",
      "|     12415|  117,614.050|\n",
      "|     14156|  104,539.320|\n",
      "|     17511|   88,125.380|\n",
      "|     17450|   73,748.830|\n",
      "|     13694|   62,653.100|\n",
      "|     16684|   60,715.280|\n",
      "|     15311|   59,419.340|\n",
      "|     13089|   57,385.880|\n",
      "|     14096|   53,363.660|\n",
      "|     14298|   50,862.440|\n",
      "|     14088|   50,415.490|\n",
      "|     15061|   46,957.940|\n",
      "|     16029|   46,816.850|\n",
      "|     15769|   43,478.320|\n",
      "|     17841|   40,340.780|\n",
      "|     13798|   36,351.420|\n",
      "+----------+-------------+\n",
      "only showing top 20 rows\n",
      "\n"
     ]
    }
   ],
   "source": [
    "# Identify the top 10 customers by revenue.\n",
    "top_10_customers_by_revenue = customers_df.groupby(col(\"CustomerId\")).agg(\n",
    "    sum(col(\"TotalPrice\")).alias(\"Total\")\n",
    ").orderBy(col(\"Total\").desc())\n",
    "top_10_customers_by_revenue = top_10_customers_by_revenue.withColumn(\"Total\", format_number(col(\"Total\"), 3))\n",
    "top_10_customers_by_revenue.show()"
   ]
  },
  {
   "cell_type": "code",
   "execution_count": 24,
   "metadata": {},
   "outputs": [
    {
     "name": "stdout",
     "output_type": "stream",
     "text": [
      "+-----+------------------+\n",
      "|Month|      MonthRevenue|\n",
      "+-----+------------------+\n",
      "|    1| 550614.0500000254|\n",
      "|    2|493296.09000001464|\n",
      "|    3|  665236.480000026|\n",
      "|    4| 488074.9610000249|\n",
      "|    5| 711173.3700000129|\n",
      "|    6| 657166.2100000235|\n",
      "|    7| 659527.3710000303|\n",
      "|    8|  687150.190000014|\n",
      "|    9| 946110.0320000099|\n",
      "|   10| 1017958.390000046|\n",
      "|   11|1371579.8500000269|\n",
      "|   12|1146956.5999999961|\n",
      "+-----+------------------+\n",
      "\n"
     ]
    }
   ],
   "source": [
    "# Analyze monthly revenue trends.\n",
    "from pyspark.sql.functions import month\n",
    "month_col = customers_df.withColumn(\"Month\", month(col(\"InvoiceDate\")))\n",
    "month_col.groupby(col(\"Month\")).agg(\n",
    "    sum(col(\"TotalPrice\")).alias(\"MonthRevenue\")\n",
    ").orderBy(col(\"Month\")).show()"
   ]
  },
  {
   "cell_type": "code",
   "execution_count": 25,
   "metadata": {},
   "outputs": [
    {
     "name": "stdout",
     "output_type": "stream",
     "text": [
      "+---------+--------------+\n",
      "|StockCode|total_quantity|\n",
      "+---------+--------------+\n",
      "|    22728|        5323.0|\n",
      "|    21889|        6377.0|\n",
      "|   90210B|          41.0|\n",
      "|    21259|        1117.0|\n",
      "|    21894|         557.0|\n",
      "+---------+--------------+\n",
      "\n"
     ]
    }
   ],
   "source": [
    "# Determine the most popular products by quantity sold.\n",
    "popular_products_by_quantity = customers_df.groupBy(col(\"StockCode\")).agg(\n",
    "    sum(col(\"Quantity\")).alias(\"total_quantity\")\n",
    ").limit(5)\n",
    "popular_products_by_quantity.show()"
   ]
  },
  {
   "cell_type": "code",
   "execution_count": 26,
   "metadata": {},
   "outputs": [
    {
     "name": "stdout",
     "output_type": "stream",
     "text": [
      "+-----+-----+\n",
      "|Month|count|\n",
      "+-----+-----+\n",
      "|    1| 1476|\n",
      "|    2| 1393|\n",
      "|    3| 1983|\n",
      "|    4| 1744|\n",
      "|    5| 2162|\n",
      "|    6| 2012|\n",
      "|    7| 1927|\n",
      "|    8| 1737|\n",
      "|    9| 2327|\n",
      "|   10| 2637|\n",
      "|   11| 3462|\n",
      "|   12| 3040|\n",
      "+-----+-----+\n",
      "\n"
     ]
    }
   ],
   "source": [
    "# Calculate the total number of orders per month.\n",
    "distinct_order = month_col.select(col(\"Month\"), col(\"InvoiceNo\")).distinct()\n",
    "orders_per_month = distinct_order.groupby(col(\"Month\")).count().orderBy(col(\"Month\"))\n",
    "orders_per_month.show()"
   ]
  },
  {
   "cell_type": "code",
   "execution_count": 27,
   "metadata": {},
   "outputs": [
    {
     "name": "stdout",
     "output_type": "stream",
     "text": [
      "Thursday\n"
     ]
    }
   ],
   "source": [
    "# Find the most frequent purchase day of the week.\n",
    "from pyspark.sql.functions import dayofweek\n",
    "days = {\n",
    "    1:\"Sunday\", \n",
    "    2: \"Monday\", \n",
    "    3: \"Tuesday\", \n",
    "    4: \"Wednesday\",\n",
    "    5: \"Thursday\",\n",
    "    6: \"Friday\",\n",
    "    7: \"Saturday\"\n",
    "    }\n",
    "day_col = customers_df.withColumn(\"Day\", dayofweek(col(\"InvoiceDate\")))\n",
    "peak_day = day_col.groupby(col(\"Day\")).count().orderBy(col(\"count\").desc()).first()\n",
    "peak_day = days[peak_day[0]]\n",
    "print(peak_day)"
   ]
  },
  {
   "cell_type": "code",
   "execution_count": 28,
   "metadata": {},
   "outputs": [
    {
     "name": "stdout",
     "output_type": "stream",
     "text": [
      "+------+--------------+\n",
      "|Season|       Revenue|\n",
      "+------+--------------+\n",
      "|Spring|1,864,484.8110|\n",
      "|Summer|2,003,843.7710|\n",
      "|Autumn|3,335,648.2720|\n",
      "|Winter|2,190,866.7400|\n",
      "+------+--------------+\n",
      "\n"
     ]
    }
   ],
   "source": [
    "# Identify seasonal trends in purchases.\n",
    "\n",
    "def get_season(month):\n",
    "    return (\n",
    "        when(month.isin({3, 4, 5}), \"Spring\").\n",
    "        when(month.isin({6, 7, 8}), \"Summer\").\n",
    "        when(month.isin({9, 10, 11}), \"Autumn\").\n",
    "        otherwise(\"Winter\")\n",
    "    )\n",
    "\n",
    "month_revenue = month_col.groupby(col(\"Month\")).agg(\n",
    "    sum(col(\"TotalPrice\")).alias(\"Revenue\")\n",
    ")\n",
    "\n",
    "season_revenue = month_revenue.withColumn(\"Month\", get_season(col(\"Month\"))).\\\n",
    "    withColumnRenamed(\"Month\", \"Season\")\n",
    "\n",
    "season_revenue = season_revenue.groupby(col(\"Season\")).agg(\n",
    "        format_number(sum(\"Revenue\"), 4).alias(\"Revenue\")\n",
    "    )\n",
    "season_revenue.show()\n"
   ]
  },
  {
   "cell_type": "code",
   "execution_count": 29,
   "metadata": {},
   "outputs": [
    {
     "name": "stdout",
     "output_type": "stream",
     "text": [
      "+------------------+\n",
      "|    avg(UnitPrice)|\n",
      "+------------------+\n",
      "|4.6111136260901056|\n",
      "+------------------+\n",
      "\n"
     ]
    }
   ],
   "source": [
    "# Calculate the average unit price per product.\n",
    "customers_df.agg(avg(col(\"UnitPrice\"))).show()"
   ]
  },
  {
   "cell_type": "markdown",
   "metadata": {},
   "source": [
    "                            DATA FILTERING"
   ]
  },
  {
   "cell_type": "code",
   "execution_count": 30,
   "metadata": {},
   "outputs": [
    {
     "name": "stdout",
     "output_type": "stream",
     "text": [
      "+---------+---------+--------------------+--------+-------------------+---------+----------+--------------+----------+\n",
      "|InvoiceNo|StockCode|         Description|Quantity|        InvoiceDate|UnitPrice|CustomerID|       Country|TotalPrice|\n",
      "+---------+---------+--------------------+--------+-------------------+---------+----------+--------------+----------+\n",
      "|   536365|   85123A|WHITE HANGING HEA...|       6|2010-12-01 08:26:00|     2.55|     17850|United Kingdom|    15.300|\n",
      "|   536373|   85123A|WHITE HANGING HEA...|       6|2010-12-01 09:02:00|     2.55|     17850|United Kingdom|    15.300|\n",
      "|   536375|   85123A|WHITE HANGING HEA...|       6|2010-12-01 09:32:00|     2.55|     17850|United Kingdom|    15.300|\n",
      "|   536390|   85123A|WHITE HANGING HEA...|      64|2010-12-01 10:19:00|     2.55|     17511|United Kingdom|   163.200|\n",
      "|   536394|   85123A|WHITE HANGING HEA...|      32|2010-12-01 10:39:00|     2.55|     13408|United Kingdom|    81.600|\n",
      "|   536396|   85123A|WHITE HANGING HEA...|       6|2010-12-01 10:51:00|     2.55|     17850|United Kingdom|    15.300|\n",
      "|   536401|   85123A|WHITE HANGING HEA...|       4|2010-12-01 11:21:00|     2.95|     15862|United Kingdom|    11.800|\n",
      "|   536406|   85123A|WHITE HANGING HEA...|       8|2010-12-01 11:33:00|     2.55|     17850|United Kingdom|    20.400|\n",
      "|   536502|   85123A|WHITE HANGING HEA...|       6|2010-12-01 12:36:00|     2.95|     16552|United Kingdom|    17.700|\n",
      "|   536520|   85123A|WHITE HANGING HEA...|       3|2010-12-01 12:43:00|     2.95|     14729|United Kingdom|     8.850|\n",
      "|   536542|   85123A|WHITE HANGING HEA...|      32|2010-12-01 14:11:00|     2.95|     16456|United Kingdom|    94.400|\n",
      "|   536544|   85123A|WHITE HANGING HEA...|       4|2010-12-01 14:32:00|     5.91|      NULL|United Kingdom|    23.640|\n",
      "|   536575|   85123A|WHITE HANGING HEA...|     128|2010-12-01 16:01:00|     2.55|     13777|United Kingdom|   326.400|\n",
      "|   536576|   85123A|WHITE HANGING HEA...|     128|2010-12-01 16:11:00|     2.55|     13777|United Kingdom|   326.400|\n",
      "|   536590|   85123A|WHITE HANGING HEA...|       6|2010-12-01 16:52:00|     2.95|     13065|United Kingdom|    17.700|\n",
      "|   536592|   85123A|WHITE HANGING HEA...|       9|2010-12-01 17:06:00|     5.91|      NULL|United Kingdom|    53.190|\n",
      "|   536594|   85123A|WHITE HANGING HEA...|       6|2010-12-01 17:22:00|     2.95|     15235|United Kingdom|    17.700|\n",
      "|   536600|   85123A|WHITE HANGING HEA...|       6|2010-12-02 08:32:00|     2.55|     17850|United Kingdom|    15.300|\n",
      "|   536602|   85123A|WHITE HANGING HEA...|       6|2010-12-02 08:34:00|     2.55|     17850|United Kingdom|    15.300|\n",
      "|   536607|   85123A|WHITE HANGING HEA...|       6|2010-12-02 09:29:00|     2.95|     17732|United Kingdom|    17.700|\n",
      "+---------+---------+--------------------+--------+-------------------+---------+----------+--------------+----------+\n",
      "only showing top 20 rows\n",
      "\n"
     ]
    }
   ],
   "source": [
    "# Filter transactions that involve a specific product/Stock.\n",
    "StockCode = \"85123A\"\n",
    "specific_txn = customers_df.filter(col(\"StockCode\")==StockCode)\n",
    "specific_txn.show()"
   ]
  },
  {
   "cell_type": "code",
   "execution_count": 31,
   "metadata": {},
   "outputs": [
    {
     "name": "stdout",
     "output_type": "stream",
     "text": [
      "+---------+---------+--------------------+--------+-------------------+---------+----------+--------------+----------+\n",
      "|InvoiceNo|StockCode|         Description|Quantity|        InvoiceDate|UnitPrice|CustomerID|       Country|TotalPrice|\n",
      "+---------+---------+--------------------+--------+-------------------+---------+----------+--------------+----------+\n",
      "|   538351|    22423|REGENCY CAKESTAND...|      38|2010-12-10 15:17:00|    25.49|      NULL|United Kingdom|   968.620|\n",
      "|   538351|   84029E|RED WOOLLY HOTTIE...|     115|2010-12-10 15:17:00|     8.47|      NULL|United Kingdom|   974.050|\n",
      "|   538877|    22114|HOT WATER BOTTLE ...|     104|2010-12-14 15:29:00|     9.32|      NULL|United Kingdom|   969.280|\n",
      "|   543379|    82484|WOOD BLACK BOARD ...|     204|2011-02-07 15:37:00|     4.77|     18102|United Kingdom|   973.080|\n",
      "|   546789|    20711|     JUMBO BAG TOYS |     600|2011-03-17 10:17:00|     1.65|     15769|United Kingdom|   990.000|\n",
      "|   547812|    22189|CREAM HEART CARD ...|     432|2011-03-25 14:06:00|     2.31|     18102|United Kingdom|   997.920|\n",
      "|   550135|   84997B|CHILDRENS CUTLERY...|     288|2011-04-14 13:52:00|     3.39|     15769|United Kingdom|   976.320|\n",
      "|   550608|    22970|LONDON BUS COFFEE...|     462|2011-04-19 12:19:00|      2.1|     12901|United Kingdom|   970.200|\n",
      "|   556726|    82484|WOOD BLACK BOARD ...|     204|2011-06-14 11:31:00|      4.8|     18102|United Kingdom|   979.200|\n",
      "|   556726|    23135|SMALL ZINC HEART ...|     300|2011-06-14 11:31:00|     3.32|     18102|United Kingdom|   996.000|\n",
      "|   556917|    23243|SET OF TEA COFFEE...|     240|2011-06-15 13:37:00|     4.15|     12415|     Australia|   996.000|\n",
      "|   556917|    23245|SET OF 3 REGENCY ...|     240|2011-06-15 13:37:00|     4.15|     12415|     Australia|   996.000|\n",
      "|   560734|    71477|COLOUR GLASS. STA...|     360|2011-07-20 14:58:00|     2.75|     15298|United Kingdom|   990.000|\n",
      "|   561655|    82484|WOOD BLACK BOARD ...|     204|2011-07-28 16:00:00|      4.8|     18102|United Kingdom|   979.200|\n",
      "|   561655|    23135|SMALL ZINC HEART ...|     300|2011-07-28 16:00:00|     3.32|     18102|United Kingdom|   996.000|\n",
      "|   561901|    23131|MISELTOE HEART WR...|     240|2011-07-31 15:42:00|     4.15|     14156|          EIRE|   996.000|\n",
      "|   563563|    20969|RED FLORAL FELTCR...|     288|2011-08-17 14:03:00|     3.39|     16029|United Kingdom|   976.320|\n",
      "|   564652|    23084|  RABBIT NIGHT LIGHT|     480|2011-08-26 14:20:00|     2.08|     14646|   Netherlands|   998.400|\n",
      "|   567377|    23113|PANTRY CHOPPING B...|     186|2011-09-20 09:55:00|     5.15|     17450|United Kingdom|   957.900|\n",
      "|   569570|    23355|HOT WATER BOTTLE ...|     240|2011-10-05 10:06:00|     4.15|     16684|United Kingdom|   996.000|\n",
      "+---------+---------+--------------------+--------+-------------------+---------+----------+--------------+----------+\n",
      "only showing top 20 rows\n",
      "\n"
     ]
    }
   ],
   "source": [
    "# Filter transactions above a certain total price threshold.\n",
    "_threshold = 950\n",
    "customers_df.filter(col(\"TotalPrice\")>_threshold).show()"
   ]
  },
  {
   "cell_type": "code",
   "execution_count": 32,
   "metadata": {},
   "outputs": [
    {
     "name": "stdout",
     "output_type": "stream",
     "text": [
      "+---------+---------+--------------------+--------+-------------------+---------+----------+-----------+----------+\n",
      "|InvoiceNo|StockCode|         Description|Quantity|        InvoiceDate|UnitPrice|CustomerID|    Country|TotalPrice|\n",
      "+---------+---------+--------------------+--------+-------------------+---------+----------+-----------+----------+\n",
      "|   536858|    22326|ROUND SNACK BOXES...|      30|2010-12-03 10:36:00|     2.95|     13520|Switzerland|    88.500|\n",
      "|   536858|    22554|PLASTERS IN TIN W...|      36|2010-12-03 10:36:00|     1.65|     13520|Switzerland|    59.400|\n",
      "|   536858|    21731|RED TOADSTOOL LED...|      24|2010-12-03 10:36:00|     1.65|     13520|Switzerland|    39.600|\n",
      "|   536858|    20677|  PINK POLKADOT BOWL|      16|2010-12-03 10:36:00|     1.25|     13520|Switzerland|    20.000|\n",
      "|   536858|    20750|RED RETROSPOT MIN...|       2|2010-12-03 10:36:00|     7.95|     13520|Switzerland|    15.900|\n",
      "|   536858|     POST|             POSTAGE|       2|2010-12-03 10:36:00|       40|     13520|Switzerland|    80.000|\n",
      "|   539488|    22837|HOT WATER BOTTLE ...|       8|2010-12-20 09:37:00|     4.65|     12377|Switzerland|    37.200|\n",
      "|   539488|    22112|CHOCOLATE HOT WAT...|      16|2010-12-20 09:37:00|     4.95|     12377|Switzerland|    79.200|\n",
      "|   539488|    22953|BIRTHDAY BANNER TAPE|      24|2010-12-20 09:37:00|     1.25|     12377|Switzerland|    30.000|\n",
      "|   539488|    22813|PACK 3 BOXES BIRD...|      24|2010-12-20 09:37:00|     1.95|     12377|Switzerland|    46.800|\n",
      "|   539488|    22314|OFFICE MUG WARMER...|      12|2010-12-20 09:37:00|     4.95|     12377|Switzerland|    59.400|\n",
      "|   539488|    22190|      LOCAL CAFE MUG|      12|2010-12-20 09:37:00|      2.1|     12377|Switzerland|    25.200|\n",
      "|   539488|    22540|MINI JIGSAW CIRCU...|      24|2010-12-20 09:37:00|     0.42|     12377|Switzerland|    10.080|\n",
      "|   539488|    22544|MINI JIGSAW SPACEBOY|      24|2010-12-20 09:37:00|     0.42|     12377|Switzerland|    10.080|\n",
      "|   539488|    22546|  MINI JIGSAW PURDEY|      24|2010-12-20 09:37:00|     0.42|     12377|Switzerland|    10.080|\n",
      "|   539488|    22545| MINI JIGSAW BUNNIES|      24|2010-12-20 09:37:00|     0.42|     12377|Switzerland|    10.080|\n",
      "|   539488|    22539|MINI JIGSAW DOLLY...|      24|2010-12-20 09:37:00|     0.42|     12377|Switzerland|    10.080|\n",
      "|   539488|    22538|MINI JIGSAW GO TO...|      24|2010-12-20 09:37:00|     0.42|     12377|Switzerland|    10.080|\n",
      "|   539488|    22555|PLASTERS IN TIN S...|      12|2010-12-20 09:37:00|     1.65|     12377|Switzerland|    19.800|\n",
      "|   539488|    22556|PLASTERS IN TIN C...|      12|2010-12-20 09:37:00|     1.65|     12377|Switzerland|    19.800|\n",
      "+---------+---------+--------------------+--------+-------------------+---------+----------+-----------+----------+\n",
      "only showing top 20 rows\n",
      "\n"
     ]
    }
   ],
   "source": [
    "# Filter transactions from a specific country.\n",
    "country = \"Switzerland\"\n",
    "country_txn = customers_df.filter(col(\"Country\")==country)\n",
    "country_txn.show()"
   ]
  },
  {
   "cell_type": "code",
   "execution_count": 33,
   "metadata": {},
   "outputs": [
    {
     "name": "stdout",
     "output_type": "stream",
     "text": [
      "+---------+---------+--------------------+--------+-------------------+---------+----------+--------------+----------+\n",
      "|InvoiceNo|StockCode|         Description|Quantity|        InvoiceDate|UnitPrice|CustomerID|       Country|TotalPrice|\n",
      "+---------+---------+--------------------+--------+-------------------+---------+----------+--------------+----------+\n",
      "|   536365|   85123A|WHITE HANGING HEA...|       6|2010-12-01 08:26:00|     2.55|     17850|United Kingdom|    15.300|\n",
      "|   536365|    71053| WHITE METAL LANTERN|       6|2010-12-01 08:26:00|     3.39|     17850|United Kingdom|    20.340|\n",
      "|   536365|   84406B|CREAM CUPID HEART...|       8|2010-12-01 08:26:00|     2.75|     17850|United Kingdom|    22.000|\n",
      "|   536365|   84029G|KNITTED UNION FLA...|       6|2010-12-01 08:26:00|     3.39|     17850|United Kingdom|    20.340|\n",
      "|   536365|   84029E|RED WOOLLY HOTTIE...|       6|2010-12-01 08:26:00|     3.39|     17850|United Kingdom|    20.340|\n",
      "|   536365|    22752|SET 7 BABUSHKA NE...|       2|2010-12-01 08:26:00|     7.65|     17850|United Kingdom|    15.300|\n",
      "|   536365|    21730|GLASS STAR FROSTE...|       6|2010-12-01 08:26:00|     4.25|     17850|United Kingdom|    25.500|\n",
      "|   536366|    22633|HAND WARMER UNION...|       6|2010-12-01 08:28:00|     1.85|     17850|United Kingdom|    11.100|\n",
      "|   536366|    22632|HAND WARMER RED P...|       6|2010-12-01 08:28:00|     1.85|     17850|United Kingdom|    11.100|\n",
      "|   536372|    22632|HAND WARMER RED P...|       6|2010-12-01 09:01:00|     1.85|     17850|United Kingdom|    11.100|\n",
      "|   536372|    22633|HAND WARMER UNION...|       6|2010-12-01 09:01:00|     1.85|     17850|United Kingdom|    11.100|\n",
      "|   536373|   85123A|WHITE HANGING HEA...|       6|2010-12-01 09:02:00|     2.55|     17850|United Kingdom|    15.300|\n",
      "|   536373|    71053| WHITE METAL LANTERN|       6|2010-12-01 09:02:00|     3.39|     17850|United Kingdom|    20.340|\n",
      "|   536373|   84406B|CREAM CUPID HEART...|       8|2010-12-01 09:02:00|     2.75|     17850|United Kingdom|    22.000|\n",
      "|   536373|    20679|EDWARDIAN PARASOL...|       6|2010-12-01 09:02:00|     4.95|     17850|United Kingdom|    29.700|\n",
      "|   536373|    37370|RETRO COFFEE MUGS...|       6|2010-12-01 09:02:00|     1.06|     17850|United Kingdom|     6.360|\n",
      "|   536373|    21871| SAVE THE PLANET MUG|       6|2010-12-01 09:02:00|     1.06|     17850|United Kingdom|     6.360|\n",
      "|   536373|    21071|VINTAGE BILLBOARD...|       6|2010-12-01 09:02:00|     1.06|     17850|United Kingdom|     6.360|\n",
      "|   536373|    21068|VINTAGE BILLBOARD...|       6|2010-12-01 09:02:00|     1.06|     17850|United Kingdom|     6.360|\n",
      "|   536373|    82483|WOOD 2 DRAWER CAB...|       2|2010-12-01 09:02:00|     4.95|     17850|United Kingdom|     9.900|\n",
      "+---------+---------+--------------------+--------+-------------------+---------+----------+--------------+----------+\n",
      "only showing top 20 rows\n",
      "\n"
     ]
    }
   ],
   "source": [
    "# Find transactions made by a specific customer.\n",
    "customer_id = \"17850\"\n",
    "customer_txn = customers_df.filter(col(\"CustomerID\")==customer_id)\n",
    "customer_txn.show()"
   ]
  },
  {
   "cell_type": "code",
   "execution_count": 34,
   "metadata": {},
   "outputs": [
    {
     "name": "stdout",
     "output_type": "stream",
     "text": [
      "+---------+---------+--------------------+--------+-------------------+---------+----------+--------------+----------+\n",
      "|InvoiceNo|StockCode|         Description|Quantity|        InvoiceDate|UnitPrice|CustomerID|       Country|TotalPrice|\n",
      "+---------+---------+--------------------+--------+-------------------+---------+----------+--------------+----------+\n",
      "|   539993|    22386|JUMBO BAG PINK PO...|      10|2011-01-04 10:00:00|     1.95|     13313|United Kingdom|    19.500|\n",
      "|   539993|    21499|  BLUE POLKADOT WRAP|      25|2011-01-04 10:00:00|     0.42|     13313|United Kingdom|    10.500|\n",
      "|   539993|    21498| RED RETROSPOT WRAP |      25|2011-01-04 10:00:00|     0.42|     13313|United Kingdom|    10.500|\n",
      "|   539993|    22379|RECYCLING BAG RET...|       5|2011-01-04 10:00:00|      2.1|     13313|United Kingdom|    10.500|\n",
      "|   539993|    20718|RED RETROSPOT SHO...|      10|2011-01-04 10:00:00|     1.25|     13313|United Kingdom|    12.500|\n",
      "|   539993|   85099B|JUMBO BAG RED RET...|      10|2011-01-04 10:00:00|     1.95|     13313|United Kingdom|    19.500|\n",
      "|   539993|    20682|RED RETROSPOT CHI...|       6|2011-01-04 10:00:00|     3.25|     13313|United Kingdom|    19.500|\n",
      "|   539993|    22961|JAM MAKING SET PR...|      12|2011-01-04 10:00:00|     1.45|     13313|United Kingdom|    17.400|\n",
      "|   539993|    22667|RECIPE BOX RETROS...|       6|2011-01-04 10:00:00|     2.95|     13313|United Kingdom|    17.700|\n",
      "|   539993|    22898|CHILDRENS APRON A...|       8|2011-01-04 10:00:00|     1.95|     13313|United Kingdom|    15.600|\n",
      "|   539993|    22896|PEG BAG APPLES DE...|       6|2011-01-04 10:00:00|     2.55|     13313|United Kingdom|    15.300|\n",
      "|   539993|    22303|COFFEE MUG APPLES...|       6|2011-01-04 10:00:00|     2.55|     13313|United Kingdom|    15.300|\n",
      "|   539993|    22302|COFFEE MUG PEARS ...|       6|2011-01-04 10:00:00|     2.55|     13313|United Kingdom|    15.300|\n",
      "|   539993|   85123A|WHITE HANGING HEA...|      12|2011-01-04 10:00:00|     2.95|     13313|United Kingdom|    35.400|\n",
      "|   539993|    22808|SET OF 6 T-LIGHTS...|      12|2011-01-04 10:00:00|     2.95|     13313|United Kingdom|    35.400|\n",
      "|   539993|    22458|CAST IRON HOOK GA...|       8|2011-01-04 10:00:00|     2.55|     13313|United Kingdom|    20.400|\n",
      "|   539993|    22862|LOVE HEART NAPKIN...|       4|2011-01-04 10:00:00|     4.25|     13313|United Kingdom|    17.000|\n",
      "|   539994|    22830|                NULL|      -1|2011-01-04 10:09:00|        0|      NULL|United Kingdom|    -0.000|\n",
      "|   539995|    85064|                NULL|     -12|2011-01-04 10:12:00|        0|      NULL|United Kingdom|    -0.000|\n",
      "|   539996|    21784|                NULL|     -10|2011-01-04 10:12:00|        0|      NULL|United Kingdom|    -0.000|\n",
      "+---------+---------+--------------------+--------+-------------------+---------+----------+--------------+----------+\n",
      "only showing top 20 rows\n",
      "\n"
     ]
    }
   ],
   "source": [
    "# Filter transactions that occurred within a specific date range.\n",
    "start_date = \"2011-01-04\"\n",
    "end_date = \"2012-01-04\"\n",
    "\n",
    "filtered_df = customers_df.filter(\n",
    "    (col(\"InvoiceDate\") >= start_date) & (col(\"InvoiceDate\") < end_date)\n",
    ")\n",
    "\n",
    "filtered_df.show()\n",
    "# customers_df.filter(col(\"InvoiceDate\")>\"2011-01-04\").show()\n"
   ]
  },
  {
   "cell_type": "code",
   "execution_count": 35,
   "metadata": {},
   "outputs": [
    {
     "name": "stdout",
     "output_type": "stream",
     "text": [
      "+---------+---------+--------------------+--------+-------------------+---------+----------+--------------+----------+\n",
      "|InvoiceNo|StockCode|         Description|Quantity|        InvoiceDate|UnitPrice|CustomerID|       Country|TotalPrice|\n",
      "+---------+---------+--------------------+--------+-------------------+---------+----------+--------------+----------+\n",
      "|   547812|    22189|CREAM HEART CARD ...|     432|2011-03-25 14:06:00|     2.31|     18102|United Kingdom|   997.920|\n",
      "|   556726|    23135|SMALL ZINC HEART ...|     300|2011-06-14 11:31:00|     3.32|     18102|United Kingdom|   996.000|\n",
      "|   556917|    23243|SET OF TEA COFFEE...|     240|2011-06-15 13:37:00|     4.15|     12415|     Australia|   996.000|\n",
      "|   556917|    23245|SET OF 3 REGENCY ...|     240|2011-06-15 13:37:00|     4.15|     12415|     Australia|   996.000|\n",
      "|   561655|    23135|SMALL ZINC HEART ...|     300|2011-07-28 16:00:00|     3.32|     18102|United Kingdom|   996.000|\n",
      "|   561901|    23131|MISELTOE HEART WR...|     240|2011-07-31 15:42:00|     4.15|     14156|          EIRE|   996.000|\n",
      "|   564652|    23084|  RABBIT NIGHT LIGHT|     480|2011-08-26 14:20:00|     2.08|     14646|   Netherlands|   998.400|\n",
      "|   569570|    23355|HOT WATER BOTTLE ...|     240|2011-10-05 10:06:00|     4.15|     16684|United Kingdom|   996.000|\n",
      "|   569570|    23245|SET OF 3 REGENCY ...|     240|2011-10-05 10:06:00|     4.15|     16684|United Kingdom|   996.000|\n",
      "+---------+---------+--------------------+--------+-------------------+---------+----------+--------------+----------+\n",
      "\n"
     ]
    }
   ],
   "source": [
    "# Identify transactions with a quantity greater than a certain amount.\n",
    "_amount = 990\n",
    "customers_df.filter(col(\"TotalPrice\")>_amount).show()"
   ]
  },
  {
   "cell_type": "code",
   "execution_count": 36,
   "metadata": {},
   "outputs": [
    {
     "name": "stdout",
     "output_type": "stream",
     "text": [
      "+---------+---------+--------------------+--------+-------------------+---------+----------+--------------+----------+\n",
      "|InvoiceNo|StockCode|         Description|Quantity|        InvoiceDate|UnitPrice|CustomerID|       Country|TotalPrice|\n",
      "+---------+---------+--------------------+--------+-------------------+---------+----------+--------------+----------+\n",
      "|   536365|   85123A|WHITE HANGING HEA...|       6|2010-12-01 08:26:00|     2.55|     17850|United Kingdom|    15.300|\n",
      "|   536365|   84406B|CREAM CUPID HEART...|       8|2010-12-01 08:26:00|     2.75|     17850|United Kingdom|    22.000|\n",
      "|   536365|   84029E|RED WOOLLY HOTTIE...|       6|2010-12-01 08:26:00|     3.39|     17850|United Kingdom|    20.340|\n",
      "|   536367|    21777|RECIPE BOX WITH M...|       4|2010-12-01 08:34:00|     7.95|     13047|United Kingdom|    31.800|\n",
      "|   536373|   85123A|WHITE HANGING HEA...|       6|2010-12-01 09:02:00|     2.55|     17850|United Kingdom|    15.300|\n",
      "|   536373|   84406B|CREAM CUPID HEART...|       8|2010-12-01 09:02:00|     2.75|     17850|United Kingdom|    22.000|\n",
      "|   536373|   84029E|RED WOOLLY HOTTIE...|       6|2010-12-01 09:02:00|     3.39|     17850|United Kingdom|    20.340|\n",
      "|   536375|   85123A|WHITE HANGING HEA...|       6|2010-12-01 09:32:00|     2.55|     17850|United Kingdom|    15.300|\n",
      "|   536375|   84406B|CREAM CUPID HEART...|       8|2010-12-01 09:32:00|     2.75|     17850|United Kingdom|    22.000|\n",
      "|   536375|   84029E|RED WOOLLY HOTTIE...|       6|2010-12-01 09:32:00|     3.39|     17850|United Kingdom|    20.340|\n",
      "|   536376|    21733|RED HANGING HEART...|      64|2010-12-01 09:32:00|     2.55|     15291|United Kingdom|   163.200|\n",
      "|   536381|   84971S|SMALL HEART FLOWE...|       6|2010-12-01 09:41:00|     0.85|     15311|United Kingdom|     5.100|\n",
      "|   536384|    22464|HANGING METAL HEA...|      12|2010-12-01 09:53:00|     1.65|     18074|United Kingdom|    19.800|\n",
      "|   536384|    22457|NATURAL SLATE HEA...|      12|2010-12-01 09:53:00|     2.95|     18074|United Kingdom|    35.400|\n",
      "|   536384|    22469|HEART OF WICKER S...|      40|2010-12-01 09:53:00|     1.45|     18074|United Kingdom|    58.000|\n",
      "|   536384|    22470|HEART OF WICKER L...|      40|2010-12-01 09:53:00|     2.55|     18074|United Kingdom|   102.000|\n",
      "|   536384|    22189|CREAM HEART CARD ...|       4|2010-12-01 09:53:00|     3.95|     18074|United Kingdom|    15.800|\n",
      "|   536388|    21411|GINGHAM HEART  DO...|       3|2010-12-01 09:59:00|     4.25|     16250|United Kingdom|    12.750|\n",
      "|   536388|    22318|FIVE HEART HANGIN...|       6|2010-12-01 09:59:00|     2.95|     16250|United Kingdom|    17.700|\n",
      "|   536388|    22464|HANGING METAL HEA...|      12|2010-12-01 09:59:00|     1.65|     16250|United Kingdom|    19.800|\n",
      "+---------+---------+--------------------+--------+-------------------+---------+----------+--------------+----------+\n",
      "only showing top 20 rows\n",
      "\n"
     ]
    }
   ],
   "source": [
    "# Filter transactions that include products with a specific keyword in the description.\n",
    "_keyword = \"HEART\"\n",
    "customers_df.filter(col(\"Description\").contains(_keyword)).show()"
   ]
  },
  {
   "cell_type": "code",
   "execution_count": 37,
   "metadata": {},
   "outputs": [
    {
     "name": "stdout",
     "output_type": "stream",
     "text": [
      "+---------+---------+--------------------+--------+-------------------+---------+----------+--------------+----------+\n",
      "|InvoiceNo|StockCode|         Description|Quantity|        InvoiceDate|UnitPrice|CustomerID|       Country|TotalPrice|\n",
      "+---------+---------+--------------------+--------+-------------------+---------+----------+--------------+----------+\n",
      "|  C536379|        D|            Discount|      -1|2010-12-01 09:41:00|     27.5|     14527|United Kingdom|   -27.500|\n",
      "|  C536383|   35004C|SET OF 3 COLOURED...|      -1|2010-12-01 09:49:00|     4.65|     15311|United Kingdom|    -4.650|\n",
      "|  C536391|    22556|PLASTERS IN TIN C...|     -12|2010-12-01 10:24:00|     1.65|     17548|United Kingdom|   -19.800|\n",
      "|  C536391|    21984|PACK OF 12 PINK P...|     -24|2010-12-01 10:24:00|     0.29|     17548|United Kingdom|    -6.960|\n",
      "|  C536391|    21983|PACK OF 12 BLUE P...|     -24|2010-12-01 10:24:00|     0.29|     17548|United Kingdom|    -6.960|\n",
      "|  C536391|    21980|PACK OF 12 RED RE...|     -24|2010-12-01 10:24:00|     0.29|     17548|United Kingdom|    -6.960|\n",
      "|  C536391|    21484|CHICK GREY HOT WA...|     -12|2010-12-01 10:24:00|     3.45|     17548|United Kingdom|   -41.400|\n",
      "|  C536391|    22557|PLASTERS IN TIN V...|     -12|2010-12-01 10:24:00|     1.65|     17548|United Kingdom|   -19.800|\n",
      "|  C536391|    22553|PLASTERS IN TIN S...|     -24|2010-12-01 10:24:00|     1.65|     17548|United Kingdom|   -39.600|\n",
      "|  C536506|    22960|JAM MAKING SET WI...|      -6|2010-12-01 12:38:00|     4.25|     17897|United Kingdom|   -25.500|\n",
      "|  C536543|    22632|HAND WARMER RED R...|      -1|2010-12-01 14:30:00|      2.1|     17841|United Kingdom|    -2.100|\n",
      "|  C536543|    22355|CHARLOTTE BAG SUK...|      -2|2010-12-01 14:30:00|     0.85|     17841|United Kingdom|    -1.700|\n",
      "|  C536548|    22244|3 HOOK HANGER MAG...|      -4|2010-12-01 14:33:00|     1.95|     12472|       Germany|    -7.800|\n",
      "|  C536548|    22242|5 HOOK HANGER MAG...|      -5|2010-12-01 14:33:00|     1.65|     12472|       Germany|    -8.250|\n",
      "|  C536548|    20914|SET/5 RED RETROSP...|      -1|2010-12-01 14:33:00|     2.95|     12472|       Germany|    -2.950|\n",
      "|  C536548|    22892|SET OF SALT AND P...|      -7|2010-12-01 14:33:00|     1.25|     12472|       Germany|    -8.750|\n",
      "|  C536548|    22654|  DELUXE SEWING KIT |      -1|2010-12-01 14:33:00|     5.95|     12472|       Germany|    -5.950|\n",
      "|  C536548|    22767|TRIPLE PHOTO FRAM...|      -2|2010-12-01 14:33:00|     9.95|     12472|       Germany|   -19.900|\n",
      "|  C536548|    22333|RETROSPOT PARTY B...|      -1|2010-12-01 14:33:00|     1.65|     12472|       Germany|    -1.650|\n",
      "|  C536548|    22245|HOOK, 1 HANGER ,M...|      -2|2010-12-01 14:33:00|     0.85|     12472|       Germany|    -1.700|\n",
      "+---------+---------+--------------------+--------+-------------------+---------+----------+--------------+----------+\n",
      "only showing top 20 rows\n",
      "\n"
     ]
    }
   ],
   "source": [
    "# Filter out canceled transactions (invoices starting with 'C').\n",
    "customers_df.filter(col(\"InvoiceNo\").startswith(\"C\")).show()"
   ]
  },
  {
   "cell_type": "code",
   "execution_count": 38,
   "metadata": {},
   "outputs": [
    {
     "name": "stdout",
     "output_type": "stream",
     "text": [
      "+----------+----------+\n",
      "|CustomerId|CountryCnt|\n",
      "+----------+----------+\n",
      "|     12394|         2|\n",
      "|     12429|         2|\n",
      "|      NULL|         9|\n",
      "|     12457|         2|\n",
      "|     12431|         2|\n",
      "|     12370|         2|\n",
      "|     12417|         2|\n",
      "|     12455|         2|\n",
      "|     12422|         2|\n",
      "+----------+----------+\n",
      "\n"
     ]
    }
   ],
   "source": [
    "# Identify customers who made purchases in more than one country.\n",
    "\n",
    "from pyspark.sql.functions import countDistinct\n",
    "multi_country_purchases = customers_df.groupby(col(\"CustomerId\")).agg(\n",
    "    countDistinct(col(\"Country\")).alias(\"CountryCnt\")\n",
    ").filter(col(\"CountryCnt\")>1)\n",
    "multi_country_purchases.show()\n",
    "\n",
    "# customers_df.filter(col(\"CustomerId\")==\"12394\").select(col(\"Country\")).distinct().show()"
   ]
  },
  {
   "cell_type": "code",
   "execution_count": 39,
   "metadata": {},
   "outputs": [
    {
     "name": "stdout",
     "output_type": "stream",
     "text": [
      "+---------+---------+-----------+--------+-------------------+---------+----------+--------------+-----------+\n",
      "|InvoiceNo|StockCode|Description|Quantity|        InvoiceDate|UnitPrice|CustomerID|       Country| TotalPrice|\n",
      "+---------+---------+-----------+--------+-------------------+---------+----------+--------------+-----------+\n",
      "|  C556445|        M|     Manual|      -1|2011-06-10 15:31:00|    38970|     15098|United Kingdom|-38,970.000|\n",
      "+---------+---------+-----------+--------+-------------------+---------+----------+--------------+-----------+\n",
      "\n"
     ]
    }
   ],
   "source": [
    "# Filter transactions with a unit price above or below a certain value.\n",
    "_value = 20000\n",
    "unit_price_beyond_value = customers_df.filter(col(\"UnitPrice\")>_value)\n",
    "unit_price_beyond_value.show()"
   ]
  },
  {
   "cell_type": "code",
   "execution_count": null,
   "metadata": {},
   "outputs": [],
   "source": []
  },
  {
   "cell_type": "code",
   "execution_count": 40,
   "metadata": {},
   "outputs": [
    {
     "name": "stdout",
     "output_type": "stream",
     "text": [
      "+---------+---------+--------------------+--------+-------------------+---------+----------+--------------+----------+\n",
      "|InvoiceNo|StockCode|         Description|Quantity|        InvoiceDate|UnitPrice|CustomerID|       Country|TotalPrice|\n",
      "+---------+---------+--------------------+--------+-------------------+---------+----------+--------------+----------+\n",
      "|   536365|   85123A|WHITE HANGING HEA...|       6|2010-12-01 08:26:00|     2.55|     17850|United Kingdom|    15.300|\n",
      "|   536365|    71053| WHITE METAL LANTERN|       6|2010-12-01 08:26:00|     3.39|     17850|United Kingdom|    20.340|\n",
      "|   536365|   84406B|CREAM CUPID HEART...|       8|2010-12-01 08:26:00|     2.75|     17850|United Kingdom|    22.000|\n",
      "|   536365|   84029G|KNITTED UNION FLA...|       6|2010-12-01 08:26:00|     3.39|     17850|United Kingdom|    20.340|\n",
      "|   536365|   84029E|RED WOOLLY HOTTIE...|       6|2010-12-01 08:26:00|     3.39|     17850|United Kingdom|    20.340|\n",
      "|   536365|    22752|SET 7 BABUSHKA NE...|       2|2010-12-01 08:26:00|     7.65|     17850|United Kingdom|    15.300|\n",
      "|   536365|    21730|GLASS STAR FROSTE...|       6|2010-12-01 08:26:00|     4.25|     17850|United Kingdom|    25.500|\n",
      "|   536366|    22633|HAND WARMER UNION...|       6|2010-12-01 08:28:00|     1.85|     17850|United Kingdom|    11.100|\n",
      "|   536366|    22632|HAND WARMER RED P...|       6|2010-12-01 08:28:00|     1.85|     17850|United Kingdom|    11.100|\n",
      "|   536367|    84879|ASSORTED COLOUR B...|      32|2010-12-01 08:34:00|     1.69|     13047|United Kingdom|    54.080|\n",
      "|   536367|    22745|POPPY'S PLAYHOUSE...|       6|2010-12-01 08:34:00|      2.1|     13047|United Kingdom|    12.600|\n",
      "|   536367|    22748|POPPY'S PLAYHOUSE...|       6|2010-12-01 08:34:00|      2.1|     13047|United Kingdom|    12.600|\n",
      "|   536367|    22749|FELTCRAFT PRINCES...|       8|2010-12-01 08:34:00|     3.75|     13047|United Kingdom|    30.000|\n",
      "|   536367|    22310|IVORY KNITTED MUG...|       6|2010-12-01 08:34:00|     1.65|     13047|United Kingdom|     9.900|\n",
      "|   536367|    84969|BOX OF 6 ASSORTED...|       6|2010-12-01 08:34:00|     4.25|     13047|United Kingdom|    25.500|\n",
      "|   536367|    22623|BOX OF VINTAGE JI...|       3|2010-12-01 08:34:00|     4.95|     13047|United Kingdom|    14.850|\n",
      "|   536367|    22622|BOX OF VINTAGE AL...|       2|2010-12-01 08:34:00|     9.95|     13047|United Kingdom|    19.900|\n",
      "|   536367|    21754|HOME BUILDING BLO...|       3|2010-12-01 08:34:00|     5.95|     13047|United Kingdom|    17.850|\n",
      "|   536367|    21755|LOVE BUILDING BLO...|       3|2010-12-01 08:34:00|     5.95|     13047|United Kingdom|    17.850|\n",
      "|   536367|    21777|RECIPE BOX WITH M...|       4|2010-12-01 08:34:00|     7.95|     13047|United Kingdom|    31.800|\n",
      "+---------+---------+--------------------+--------+-------------------+---------+----------+--------------+----------+\n",
      "only showing top 20 rows\n",
      "\n"
     ]
    }
   ],
   "source": [
    "customers_df.show()"
   ]
  },
  {
   "cell_type": "code",
   "execution_count": 41,
   "metadata": {},
   "outputs": [],
   "source": [
    "spark.stop()"
   ]
  },
  {
   "cell_type": "markdown",
   "metadata": {},
   "source": [
    "Description of the Dataset\n",
    "\n",
    "The dataset contains the following columns:\n",
    "\n",
    "    InvoiceNo: Invoice number. Nominal, a 6-digit integral number uniquely assigned to each transaction. If this code starts with the letter 'c', it indicates a cancellation.\n",
    "    \n",
    "    StockCode: Product (item) code. Nominal, a 5-digit integral number uniquely assigned to each distinct product.\n",
    "    \n",
    "    Description: Product (item) name. Nominal.\n",
    "    \n",
    "    Quantity: The quantities of each product (item) per transaction. Numeric.\n",
    "    \n",
    "    InvoiceDate: Invoice Date and time. Numeric, the day and time when each transaction was generated.\n",
    "    \n",
    "    UnitPrice: Unit price. Numeric, Product price per unit in sterling.\n",
    "    \n",
    "    CustomerID: Customer number. Nominal, a 5-digit integral number uniquely assigned to each customer.\n",
    "    \n",
    "    Country: Country name. Nominal, the name of the country where each customer resides."
   ]
  },
  {
   "cell_type": "code",
   "execution_count": null,
   "metadata": {},
   "outputs": [],
   "source": []
  },
  {
   "cell_type": "code",
   "execution_count": 42,
   "metadata": {},
   "outputs": [],
   "source": [
    "spark.stop()"
   ]
  }
 ],
 "metadata": {
  "kernelspec": {
   "display_name": "Python 3",
   "language": "python",
   "name": "python3"
  },
  "language_info": {
   "codemirror_mode": {
    "name": "ipython",
    "version": 3
   },
   "file_extension": ".py",
   "mimetype": "text/x-python",
   "name": "python",
   "nbconvert_exporter": "python",
   "pygments_lexer": "ipython3",
   "version": "3.12.4"
  }
 },
 "nbformat": 4,
 "nbformat_minor": 2
}
